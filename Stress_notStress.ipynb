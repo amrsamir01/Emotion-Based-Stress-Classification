{
 "cells": [
  {
   "cell_type": "code",
   "execution_count": 1,
   "metadata": {},
   "outputs": [],
   "source": [
    "import matplotlib.pyplot as plt\n",
    "import numpy as np\n",
    "import seaborn as sns\n",
    "import tensorflow as tf\n",
    "from sklearn.metrics import confusion_matrix, classification_report\n",
    "from tensorflow.keras import Sequential\n",
    "from tensorflow import keras\n",
    "from tensorflow.keras.preprocessing.image import ImageDataGenerator\n",
    "from tensorflow.keras.layers import Dense, Dropout, Flatten, Conv2D, MaxPooling2D\n",
    "from tensorflow.keras import layers, models, regularizers, callbacks, optimizers"
   ]
  },
  {
   "cell_type": "code",
   "execution_count": 2,
   "metadata": {},
   "outputs": [],
   "source": [
    "train = \"D:/Datasets/Emotion Based/KDEF/KDEF/Train\"\n",
    "test = \"D:/Datasets/Emotion Based/KDEF/KDEF/Test\""
   ]
  },
  {
   "cell_type": "code",
   "execution_count": 3,
   "metadata": {},
   "outputs": [],
   "source": [
    "image_size = (256, 256)\n",
    "batch_size = 32"
   ]
  },
  {
   "cell_type": "code",
   "execution_count": 4,
   "metadata": {},
   "outputs": [],
   "source": [
    "data_augmentation = tf.keras.Sequential([\n",
    "    layers.RandomFlip(\"horizontal\"),\n",
    "    layers.RandomRotation(0.1),\n",
    "    layers.RandomZoom(0.2),\n",
    "    layers.RandomContrast(0.2),\n",
    "])"
   ]
  },
  {
   "cell_type": "code",
   "execution_count": 5,
   "metadata": {},
   "outputs": [
    {
     "name": "stdout",
     "output_type": "stream",
     "text": [
      "Found 4409 files belonging to 2 classes.\n",
      "Using 3528 files for training.\n"
     ]
    }
   ],
   "source": [
    "train_set = keras.utils.image_dataset_from_directory(\n",
    "    train, \n",
    "    image_size=image_size,\n",
    "    batch_size=batch_size,\n",
    "    label_mode=\"binary\",\n",
    "    seed=42, \n",
    "    validation_split=0.2,\n",
    "    subset='training'\n",
    ")"
   ]
  },
  {
   "cell_type": "code",
   "execution_count": 6,
   "metadata": {},
   "outputs": [
    {
     "name": "stdout",
     "output_type": "stream",
     "text": [
      "Found 4409 files belonging to 2 classes.\n",
      "Using 881 files for validation.\n"
     ]
    }
   ],
   "source": [
    "valid_set = keras.utils.image_dataset_from_directory(\n",
    "    train,\n",
    "    image_size=image_size,\n",
    "    batch_size=batch_size,\n",
    "    label_mode=\"binary\",\n",
    "    seed=42,\n",
    "    validation_split=0.2,\n",
    "    subset='validation'\n",
    ")"
   ]
  },
  {
   "cell_type": "code",
   "execution_count": 7,
   "metadata": {},
   "outputs": [
    {
     "name": "stdout",
     "output_type": "stream",
     "text": [
      "Found 1891 files belonging to 2 classes.\n"
     ]
    }
   ],
   "source": [
    "test_set = tf.keras.utils.image_dataset_from_directory(\n",
    "    test,\n",
    "    image_size=image_size,\n",
    "    batch_size=batch_size,\n",
    "    label_mode='binary',\n",
    "    shuffle=False,\n",
    "    seed=42\n",
    ")"
   ]
  },
  {
   "cell_type": "code",
   "execution_count": 8,
   "metadata": {},
   "outputs": [
    {
     "name": "stdout",
     "output_type": "stream",
     "text": [
      "\n",
      "Class Weights: 0 -> 1.12, 1 -> 0.90\n"
     ]
    }
   ],
   "source": [
    "class_counts = np.concatenate([y for X, y in train_set], axis=0)\n",
    "total = len(class_counts)\n",
    "weight_for_0 = (1 / np.sum(class_counts == 0)) * (total / 2.0)\n",
    "weight_for_1 = (1 / np.sum(class_counts == 1)) * (total / 2.0)\n",
    "class_weight = {0: weight_for_0, 1: weight_for_1}\n",
    "\n",
    "print(f\"\\nClass Weights: 0 -> {weight_for_0:.2f}, 1 -> {weight_for_1:.2f}\")\n"
   ]
  },
  {
   "cell_type": "code",
   "execution_count": 9,
   "metadata": {},
   "outputs": [],
   "source": [
    "model = models.Sequential([\n",
    "        layers.Input(shape=(*image_size, 3)),\n",
    "        data_augmentation,\n",
    "        layers.Rescaling(1./255),\n",
    "        \n",
    "        # Conv Block 1\n",
    "        layers.Conv2D(64, 3, activation='relu', padding='same'),\n",
    "        layers.Conv2D(64, 3, activation='relu', padding='same'),\n",
    "        layers.MaxPooling2D(2),\n",
    "        layers.BatchNormalization(),\n",
    "        \n",
    "        # Conv Block 2\n",
    "        layers.Conv2D(128, 3, activation='relu', padding='same'),\n",
    "        layers.Conv2D(128, 3, activation='relu', padding='same'),\n",
    "        layers.MaxPooling2D(2),\n",
    "        layers.BatchNormalization(),\n",
    "        \n",
    "        # Conv Block 3\n",
    "        layers.Conv2D(256, 3, activation='relu', padding='same'),\n",
    "        layers.Conv2D(256, 3, activation='relu', padding='same'),\n",
    "        layers.MaxPooling2D(2),\n",
    "        layers.BatchNormalization(),\n",
    "        \n",
    "        # Head\n",
    "        layers.Flatten(),\n",
    "        layers.Dense(512, activation='relu', kernel_regularizer=regularizers.l2(1e-4)),\n",
    "        layers.Dropout(0.5),\n",
    "        layers.BatchNormalization(),\n",
    "        \n",
    "        layers.Dense(256, activation='relu', kernel_regularizer=regularizers.l2(1e-4)),\n",
    "        layers.Dropout(0.3),\n",
    "        layers.BatchNormalization(),\n",
    "        \n",
    "        layers.Dense(1, activation='sigmoid')\n",
    "    ])"
   ]
  },
  {
   "cell_type": "code",
   "execution_count": 10,
   "metadata": {},
   "outputs": [],
   "source": [
    "model.compile(\n",
    "    optimizer=optimizers.AdamW(learning_rate=1e-4, weight_decay=1e-4),\n",
    "    loss='binary_crossentropy',\n",
    "    metrics=[\n",
    "        'accuracy',\n",
    "        tf.keras.metrics.Precision(name='precision'),\n",
    "        tf.keras.metrics.Recall(name='recall')\n",
    "    ]\n",
    ")"
   ]
  },
  {
   "cell_type": "code",
   "execution_count": 11,
   "metadata": {},
   "outputs": [
    {
     "data": {
      "text/html": [
       "<pre style=\"white-space:pre;overflow-x:auto;line-height:normal;font-family:Menlo,'DejaVu Sans Mono',consolas,'Courier New',monospace\"><span style=\"font-weight: bold\">Model: \"sequential_1\"</span>\n",
       "</pre>\n"
      ],
      "text/plain": [
       "\u001b[1mModel: \"sequential_1\"\u001b[0m\n"
      ]
     },
     "metadata": {},
     "output_type": "display_data"
    },
    {
     "data": {
      "text/html": [
       "<pre style=\"white-space:pre;overflow-x:auto;line-height:normal;font-family:Menlo,'DejaVu Sans Mono',consolas,'Courier New',monospace\">┏━━━━━━━━━━━━━━━━━━━━━━━━━━━━━━━━━┳━━━━━━━━━━━━━━━━━━━━━━━━┳━━━━━━━━━━━━━━━┓\n",
       "┃<span style=\"font-weight: bold\"> Layer (type)                    </span>┃<span style=\"font-weight: bold\"> Output Shape           </span>┃<span style=\"font-weight: bold\">       Param # </span>┃\n",
       "┡━━━━━━━━━━━━━━━━━━━━━━━━━━━━━━━━━╇━━━━━━━━━━━━━━━━━━━━━━━━╇━━━━━━━━━━━━━━━┩\n",
       "│ sequential (<span style=\"color: #0087ff; text-decoration-color: #0087ff\">Sequential</span>)         │ (<span style=\"color: #00d7ff; text-decoration-color: #00d7ff\">None</span>, <span style=\"color: #00af00; text-decoration-color: #00af00\">256</span>, <span style=\"color: #00af00; text-decoration-color: #00af00\">256</span>, <span style=\"color: #00af00; text-decoration-color: #00af00\">3</span>)    │             <span style=\"color: #00af00; text-decoration-color: #00af00\">0</span> │\n",
       "├─────────────────────────────────┼────────────────────────┼───────────────┤\n",
       "│ rescaling (<span style=\"color: #0087ff; text-decoration-color: #0087ff\">Rescaling</span>)           │ (<span style=\"color: #00d7ff; text-decoration-color: #00d7ff\">None</span>, <span style=\"color: #00af00; text-decoration-color: #00af00\">256</span>, <span style=\"color: #00af00; text-decoration-color: #00af00\">256</span>, <span style=\"color: #00af00; text-decoration-color: #00af00\">3</span>)    │             <span style=\"color: #00af00; text-decoration-color: #00af00\">0</span> │\n",
       "├─────────────────────────────────┼────────────────────────┼───────────────┤\n",
       "│ conv2d (<span style=\"color: #0087ff; text-decoration-color: #0087ff\">Conv2D</span>)                 │ (<span style=\"color: #00d7ff; text-decoration-color: #00d7ff\">None</span>, <span style=\"color: #00af00; text-decoration-color: #00af00\">256</span>, <span style=\"color: #00af00; text-decoration-color: #00af00\">256</span>, <span style=\"color: #00af00; text-decoration-color: #00af00\">64</span>)   │         <span style=\"color: #00af00; text-decoration-color: #00af00\">1,792</span> │\n",
       "├─────────────────────────────────┼────────────────────────┼───────────────┤\n",
       "│ conv2d_1 (<span style=\"color: #0087ff; text-decoration-color: #0087ff\">Conv2D</span>)               │ (<span style=\"color: #00d7ff; text-decoration-color: #00d7ff\">None</span>, <span style=\"color: #00af00; text-decoration-color: #00af00\">256</span>, <span style=\"color: #00af00; text-decoration-color: #00af00\">256</span>, <span style=\"color: #00af00; text-decoration-color: #00af00\">64</span>)   │        <span style=\"color: #00af00; text-decoration-color: #00af00\">36,928</span> │\n",
       "├─────────────────────────────────┼────────────────────────┼───────────────┤\n",
       "│ max_pooling2d (<span style=\"color: #0087ff; text-decoration-color: #0087ff\">MaxPooling2D</span>)    │ (<span style=\"color: #00d7ff; text-decoration-color: #00d7ff\">None</span>, <span style=\"color: #00af00; text-decoration-color: #00af00\">128</span>, <span style=\"color: #00af00; text-decoration-color: #00af00\">128</span>, <span style=\"color: #00af00; text-decoration-color: #00af00\">64</span>)   │             <span style=\"color: #00af00; text-decoration-color: #00af00\">0</span> │\n",
       "├─────────────────────────────────┼────────────────────────┼───────────────┤\n",
       "│ batch_normalization             │ (<span style=\"color: #00d7ff; text-decoration-color: #00d7ff\">None</span>, <span style=\"color: #00af00; text-decoration-color: #00af00\">128</span>, <span style=\"color: #00af00; text-decoration-color: #00af00\">128</span>, <span style=\"color: #00af00; text-decoration-color: #00af00\">64</span>)   │           <span style=\"color: #00af00; text-decoration-color: #00af00\">256</span> │\n",
       "│ (<span style=\"color: #0087ff; text-decoration-color: #0087ff\">BatchNormalization</span>)            │                        │               │\n",
       "├─────────────────────────────────┼────────────────────────┼───────────────┤\n",
       "│ conv2d_2 (<span style=\"color: #0087ff; text-decoration-color: #0087ff\">Conv2D</span>)               │ (<span style=\"color: #00d7ff; text-decoration-color: #00d7ff\">None</span>, <span style=\"color: #00af00; text-decoration-color: #00af00\">128</span>, <span style=\"color: #00af00; text-decoration-color: #00af00\">128</span>, <span style=\"color: #00af00; text-decoration-color: #00af00\">128</span>)  │        <span style=\"color: #00af00; text-decoration-color: #00af00\">73,856</span> │\n",
       "├─────────────────────────────────┼────────────────────────┼───────────────┤\n",
       "│ conv2d_3 (<span style=\"color: #0087ff; text-decoration-color: #0087ff\">Conv2D</span>)               │ (<span style=\"color: #00d7ff; text-decoration-color: #00d7ff\">None</span>, <span style=\"color: #00af00; text-decoration-color: #00af00\">128</span>, <span style=\"color: #00af00; text-decoration-color: #00af00\">128</span>, <span style=\"color: #00af00; text-decoration-color: #00af00\">128</span>)  │       <span style=\"color: #00af00; text-decoration-color: #00af00\">147,584</span> │\n",
       "├─────────────────────────────────┼────────────────────────┼───────────────┤\n",
       "│ max_pooling2d_1 (<span style=\"color: #0087ff; text-decoration-color: #0087ff\">MaxPooling2D</span>)  │ (<span style=\"color: #00d7ff; text-decoration-color: #00d7ff\">None</span>, <span style=\"color: #00af00; text-decoration-color: #00af00\">64</span>, <span style=\"color: #00af00; text-decoration-color: #00af00\">64</span>, <span style=\"color: #00af00; text-decoration-color: #00af00\">128</span>)    │             <span style=\"color: #00af00; text-decoration-color: #00af00\">0</span> │\n",
       "├─────────────────────────────────┼────────────────────────┼───────────────┤\n",
       "│ batch_normalization_1           │ (<span style=\"color: #00d7ff; text-decoration-color: #00d7ff\">None</span>, <span style=\"color: #00af00; text-decoration-color: #00af00\">64</span>, <span style=\"color: #00af00; text-decoration-color: #00af00\">64</span>, <span style=\"color: #00af00; text-decoration-color: #00af00\">128</span>)    │           <span style=\"color: #00af00; text-decoration-color: #00af00\">512</span> │\n",
       "│ (<span style=\"color: #0087ff; text-decoration-color: #0087ff\">BatchNormalization</span>)            │                        │               │\n",
       "├─────────────────────────────────┼────────────────────────┼───────────────┤\n",
       "│ conv2d_4 (<span style=\"color: #0087ff; text-decoration-color: #0087ff\">Conv2D</span>)               │ (<span style=\"color: #00d7ff; text-decoration-color: #00d7ff\">None</span>, <span style=\"color: #00af00; text-decoration-color: #00af00\">64</span>, <span style=\"color: #00af00; text-decoration-color: #00af00\">64</span>, <span style=\"color: #00af00; text-decoration-color: #00af00\">256</span>)    │       <span style=\"color: #00af00; text-decoration-color: #00af00\">295,168</span> │\n",
       "├─────────────────────────────────┼────────────────────────┼───────────────┤\n",
       "│ conv2d_5 (<span style=\"color: #0087ff; text-decoration-color: #0087ff\">Conv2D</span>)               │ (<span style=\"color: #00d7ff; text-decoration-color: #00d7ff\">None</span>, <span style=\"color: #00af00; text-decoration-color: #00af00\">64</span>, <span style=\"color: #00af00; text-decoration-color: #00af00\">64</span>, <span style=\"color: #00af00; text-decoration-color: #00af00\">256</span>)    │       <span style=\"color: #00af00; text-decoration-color: #00af00\">590,080</span> │\n",
       "├─────────────────────────────────┼────────────────────────┼───────────────┤\n",
       "│ max_pooling2d_2 (<span style=\"color: #0087ff; text-decoration-color: #0087ff\">MaxPooling2D</span>)  │ (<span style=\"color: #00d7ff; text-decoration-color: #00d7ff\">None</span>, <span style=\"color: #00af00; text-decoration-color: #00af00\">32</span>, <span style=\"color: #00af00; text-decoration-color: #00af00\">32</span>, <span style=\"color: #00af00; text-decoration-color: #00af00\">256</span>)    │             <span style=\"color: #00af00; text-decoration-color: #00af00\">0</span> │\n",
       "├─────────────────────────────────┼────────────────────────┼───────────────┤\n",
       "│ batch_normalization_2           │ (<span style=\"color: #00d7ff; text-decoration-color: #00d7ff\">None</span>, <span style=\"color: #00af00; text-decoration-color: #00af00\">32</span>, <span style=\"color: #00af00; text-decoration-color: #00af00\">32</span>, <span style=\"color: #00af00; text-decoration-color: #00af00\">256</span>)    │         <span style=\"color: #00af00; text-decoration-color: #00af00\">1,024</span> │\n",
       "│ (<span style=\"color: #0087ff; text-decoration-color: #0087ff\">BatchNormalization</span>)            │                        │               │\n",
       "├─────────────────────────────────┼────────────────────────┼───────────────┤\n",
       "│ flatten (<span style=\"color: #0087ff; text-decoration-color: #0087ff\">Flatten</span>)               │ (<span style=\"color: #00d7ff; text-decoration-color: #00d7ff\">None</span>, <span style=\"color: #00af00; text-decoration-color: #00af00\">262144</span>)         │             <span style=\"color: #00af00; text-decoration-color: #00af00\">0</span> │\n",
       "├─────────────────────────────────┼────────────────────────┼───────────────┤\n",
       "│ dense (<span style=\"color: #0087ff; text-decoration-color: #0087ff\">Dense</span>)                   │ (<span style=\"color: #00d7ff; text-decoration-color: #00d7ff\">None</span>, <span style=\"color: #00af00; text-decoration-color: #00af00\">512</span>)            │   <span style=\"color: #00af00; text-decoration-color: #00af00\">134,218,240</span> │\n",
       "├─────────────────────────────────┼────────────────────────┼───────────────┤\n",
       "│ dropout (<span style=\"color: #0087ff; text-decoration-color: #0087ff\">Dropout</span>)               │ (<span style=\"color: #00d7ff; text-decoration-color: #00d7ff\">None</span>, <span style=\"color: #00af00; text-decoration-color: #00af00\">512</span>)            │             <span style=\"color: #00af00; text-decoration-color: #00af00\">0</span> │\n",
       "├─────────────────────────────────┼────────────────────────┼───────────────┤\n",
       "│ batch_normalization_3           │ (<span style=\"color: #00d7ff; text-decoration-color: #00d7ff\">None</span>, <span style=\"color: #00af00; text-decoration-color: #00af00\">512</span>)            │         <span style=\"color: #00af00; text-decoration-color: #00af00\">2,048</span> │\n",
       "│ (<span style=\"color: #0087ff; text-decoration-color: #0087ff\">BatchNormalization</span>)            │                        │               │\n",
       "├─────────────────────────────────┼────────────────────────┼───────────────┤\n",
       "│ dense_1 (<span style=\"color: #0087ff; text-decoration-color: #0087ff\">Dense</span>)                 │ (<span style=\"color: #00d7ff; text-decoration-color: #00d7ff\">None</span>, <span style=\"color: #00af00; text-decoration-color: #00af00\">256</span>)            │       <span style=\"color: #00af00; text-decoration-color: #00af00\">131,328</span> │\n",
       "├─────────────────────────────────┼────────────────────────┼───────────────┤\n",
       "│ dropout_1 (<span style=\"color: #0087ff; text-decoration-color: #0087ff\">Dropout</span>)             │ (<span style=\"color: #00d7ff; text-decoration-color: #00d7ff\">None</span>, <span style=\"color: #00af00; text-decoration-color: #00af00\">256</span>)            │             <span style=\"color: #00af00; text-decoration-color: #00af00\">0</span> │\n",
       "├─────────────────────────────────┼────────────────────────┼───────────────┤\n",
       "│ batch_normalization_4           │ (<span style=\"color: #00d7ff; text-decoration-color: #00d7ff\">None</span>, <span style=\"color: #00af00; text-decoration-color: #00af00\">256</span>)            │         <span style=\"color: #00af00; text-decoration-color: #00af00\">1,024</span> │\n",
       "│ (<span style=\"color: #0087ff; text-decoration-color: #0087ff\">BatchNormalization</span>)            │                        │               │\n",
       "├─────────────────────────────────┼────────────────────────┼───────────────┤\n",
       "│ dense_2 (<span style=\"color: #0087ff; text-decoration-color: #0087ff\">Dense</span>)                 │ (<span style=\"color: #00d7ff; text-decoration-color: #00d7ff\">None</span>, <span style=\"color: #00af00; text-decoration-color: #00af00\">1</span>)              │           <span style=\"color: #00af00; text-decoration-color: #00af00\">257</span> │\n",
       "└─────────────────────────────────┴────────────────────────┴───────────────┘\n",
       "</pre>\n"
      ],
      "text/plain": [
       "┏━━━━━━━━━━━━━━━━━━━━━━━━━━━━━━━━━┳━━━━━━━━━━━━━━━━━━━━━━━━┳━━━━━━━━━━━━━━━┓\n",
       "┃\u001b[1m \u001b[0m\u001b[1mLayer (type)                   \u001b[0m\u001b[1m \u001b[0m┃\u001b[1m \u001b[0m\u001b[1mOutput Shape          \u001b[0m\u001b[1m \u001b[0m┃\u001b[1m \u001b[0m\u001b[1m      Param #\u001b[0m\u001b[1m \u001b[0m┃\n",
       "┡━━━━━━━━━━━━━━━━━━━━━━━━━━━━━━━━━╇━━━━━━━━━━━━━━━━━━━━━━━━╇━━━━━━━━━━━━━━━┩\n",
       "│ sequential (\u001b[38;5;33mSequential\u001b[0m)         │ (\u001b[38;5;45mNone\u001b[0m, \u001b[38;5;34m256\u001b[0m, \u001b[38;5;34m256\u001b[0m, \u001b[38;5;34m3\u001b[0m)    │             \u001b[38;5;34m0\u001b[0m │\n",
       "├─────────────────────────────────┼────────────────────────┼───────────────┤\n",
       "│ rescaling (\u001b[38;5;33mRescaling\u001b[0m)           │ (\u001b[38;5;45mNone\u001b[0m, \u001b[38;5;34m256\u001b[0m, \u001b[38;5;34m256\u001b[0m, \u001b[38;5;34m3\u001b[0m)    │             \u001b[38;5;34m0\u001b[0m │\n",
       "├─────────────────────────────────┼────────────────────────┼───────────────┤\n",
       "│ conv2d (\u001b[38;5;33mConv2D\u001b[0m)                 │ (\u001b[38;5;45mNone\u001b[0m, \u001b[38;5;34m256\u001b[0m, \u001b[38;5;34m256\u001b[0m, \u001b[38;5;34m64\u001b[0m)   │         \u001b[38;5;34m1,792\u001b[0m │\n",
       "├─────────────────────────────────┼────────────────────────┼───────────────┤\n",
       "│ conv2d_1 (\u001b[38;5;33mConv2D\u001b[0m)               │ (\u001b[38;5;45mNone\u001b[0m, \u001b[38;5;34m256\u001b[0m, \u001b[38;5;34m256\u001b[0m, \u001b[38;5;34m64\u001b[0m)   │        \u001b[38;5;34m36,928\u001b[0m │\n",
       "├─────────────────────────────────┼────────────────────────┼───────────────┤\n",
       "│ max_pooling2d (\u001b[38;5;33mMaxPooling2D\u001b[0m)    │ (\u001b[38;5;45mNone\u001b[0m, \u001b[38;5;34m128\u001b[0m, \u001b[38;5;34m128\u001b[0m, \u001b[38;5;34m64\u001b[0m)   │             \u001b[38;5;34m0\u001b[0m │\n",
       "├─────────────────────────────────┼────────────────────────┼───────────────┤\n",
       "│ batch_normalization             │ (\u001b[38;5;45mNone\u001b[0m, \u001b[38;5;34m128\u001b[0m, \u001b[38;5;34m128\u001b[0m, \u001b[38;5;34m64\u001b[0m)   │           \u001b[38;5;34m256\u001b[0m │\n",
       "│ (\u001b[38;5;33mBatchNormalization\u001b[0m)            │                        │               │\n",
       "├─────────────────────────────────┼────────────────────────┼───────────────┤\n",
       "│ conv2d_2 (\u001b[38;5;33mConv2D\u001b[0m)               │ (\u001b[38;5;45mNone\u001b[0m, \u001b[38;5;34m128\u001b[0m, \u001b[38;5;34m128\u001b[0m, \u001b[38;5;34m128\u001b[0m)  │        \u001b[38;5;34m73,856\u001b[0m │\n",
       "├─────────────────────────────────┼────────────────────────┼───────────────┤\n",
       "│ conv2d_3 (\u001b[38;5;33mConv2D\u001b[0m)               │ (\u001b[38;5;45mNone\u001b[0m, \u001b[38;5;34m128\u001b[0m, \u001b[38;5;34m128\u001b[0m, \u001b[38;5;34m128\u001b[0m)  │       \u001b[38;5;34m147,584\u001b[0m │\n",
       "├─────────────────────────────────┼────────────────────────┼───────────────┤\n",
       "│ max_pooling2d_1 (\u001b[38;5;33mMaxPooling2D\u001b[0m)  │ (\u001b[38;5;45mNone\u001b[0m, \u001b[38;5;34m64\u001b[0m, \u001b[38;5;34m64\u001b[0m, \u001b[38;5;34m128\u001b[0m)    │             \u001b[38;5;34m0\u001b[0m │\n",
       "├─────────────────────────────────┼────────────────────────┼───────────────┤\n",
       "│ batch_normalization_1           │ (\u001b[38;5;45mNone\u001b[0m, \u001b[38;5;34m64\u001b[0m, \u001b[38;5;34m64\u001b[0m, \u001b[38;5;34m128\u001b[0m)    │           \u001b[38;5;34m512\u001b[0m │\n",
       "│ (\u001b[38;5;33mBatchNormalization\u001b[0m)            │                        │               │\n",
       "├─────────────────────────────────┼────────────────────────┼───────────────┤\n",
       "│ conv2d_4 (\u001b[38;5;33mConv2D\u001b[0m)               │ (\u001b[38;5;45mNone\u001b[0m, \u001b[38;5;34m64\u001b[0m, \u001b[38;5;34m64\u001b[0m, \u001b[38;5;34m256\u001b[0m)    │       \u001b[38;5;34m295,168\u001b[0m │\n",
       "├─────────────────────────────────┼────────────────────────┼───────────────┤\n",
       "│ conv2d_5 (\u001b[38;5;33mConv2D\u001b[0m)               │ (\u001b[38;5;45mNone\u001b[0m, \u001b[38;5;34m64\u001b[0m, \u001b[38;5;34m64\u001b[0m, \u001b[38;5;34m256\u001b[0m)    │       \u001b[38;5;34m590,080\u001b[0m │\n",
       "├─────────────────────────────────┼────────────────────────┼───────────────┤\n",
       "│ max_pooling2d_2 (\u001b[38;5;33mMaxPooling2D\u001b[0m)  │ (\u001b[38;5;45mNone\u001b[0m, \u001b[38;5;34m32\u001b[0m, \u001b[38;5;34m32\u001b[0m, \u001b[38;5;34m256\u001b[0m)    │             \u001b[38;5;34m0\u001b[0m │\n",
       "├─────────────────────────────────┼────────────────────────┼───────────────┤\n",
       "│ batch_normalization_2           │ (\u001b[38;5;45mNone\u001b[0m, \u001b[38;5;34m32\u001b[0m, \u001b[38;5;34m32\u001b[0m, \u001b[38;5;34m256\u001b[0m)    │         \u001b[38;5;34m1,024\u001b[0m │\n",
       "│ (\u001b[38;5;33mBatchNormalization\u001b[0m)            │                        │               │\n",
       "├─────────────────────────────────┼────────────────────────┼───────────────┤\n",
       "│ flatten (\u001b[38;5;33mFlatten\u001b[0m)               │ (\u001b[38;5;45mNone\u001b[0m, \u001b[38;5;34m262144\u001b[0m)         │             \u001b[38;5;34m0\u001b[0m │\n",
       "├─────────────────────────────────┼────────────────────────┼───────────────┤\n",
       "│ dense (\u001b[38;5;33mDense\u001b[0m)                   │ (\u001b[38;5;45mNone\u001b[0m, \u001b[38;5;34m512\u001b[0m)            │   \u001b[38;5;34m134,218,240\u001b[0m │\n",
       "├─────────────────────────────────┼────────────────────────┼───────────────┤\n",
       "│ dropout (\u001b[38;5;33mDropout\u001b[0m)               │ (\u001b[38;5;45mNone\u001b[0m, \u001b[38;5;34m512\u001b[0m)            │             \u001b[38;5;34m0\u001b[0m │\n",
       "├─────────────────────────────────┼────────────────────────┼───────────────┤\n",
       "│ batch_normalization_3           │ (\u001b[38;5;45mNone\u001b[0m, \u001b[38;5;34m512\u001b[0m)            │         \u001b[38;5;34m2,048\u001b[0m │\n",
       "│ (\u001b[38;5;33mBatchNormalization\u001b[0m)            │                        │               │\n",
       "├─────────────────────────────────┼────────────────────────┼───────────────┤\n",
       "│ dense_1 (\u001b[38;5;33mDense\u001b[0m)                 │ (\u001b[38;5;45mNone\u001b[0m, \u001b[38;5;34m256\u001b[0m)            │       \u001b[38;5;34m131,328\u001b[0m │\n",
       "├─────────────────────────────────┼────────────────────────┼───────────────┤\n",
       "│ dropout_1 (\u001b[38;5;33mDropout\u001b[0m)             │ (\u001b[38;5;45mNone\u001b[0m, \u001b[38;5;34m256\u001b[0m)            │             \u001b[38;5;34m0\u001b[0m │\n",
       "├─────────────────────────────────┼────────────────────────┼───────────────┤\n",
       "│ batch_normalization_4           │ (\u001b[38;5;45mNone\u001b[0m, \u001b[38;5;34m256\u001b[0m)            │         \u001b[38;5;34m1,024\u001b[0m │\n",
       "│ (\u001b[38;5;33mBatchNormalization\u001b[0m)            │                        │               │\n",
       "├─────────────────────────────────┼────────────────────────┼───────────────┤\n",
       "│ dense_2 (\u001b[38;5;33mDense\u001b[0m)                 │ (\u001b[38;5;45mNone\u001b[0m, \u001b[38;5;34m1\u001b[0m)              │           \u001b[38;5;34m257\u001b[0m │\n",
       "└─────────────────────────────────┴────────────────────────┴───────────────┘\n"
      ]
     },
     "metadata": {},
     "output_type": "display_data"
    },
    {
     "data": {
      "text/html": [
       "<pre style=\"white-space:pre;overflow-x:auto;line-height:normal;font-family:Menlo,'DejaVu Sans Mono',consolas,'Courier New',monospace\"><span style=\"font-weight: bold\"> Total params: </span><span style=\"color: #00af00; text-decoration-color: #00af00\">135,500,097</span> (516.89 MB)\n",
       "</pre>\n"
      ],
      "text/plain": [
       "\u001b[1m Total params: \u001b[0m\u001b[38;5;34m135,500,097\u001b[0m (516.89 MB)\n"
      ]
     },
     "metadata": {},
     "output_type": "display_data"
    },
    {
     "data": {
      "text/html": [
       "<pre style=\"white-space:pre;overflow-x:auto;line-height:normal;font-family:Menlo,'DejaVu Sans Mono',consolas,'Courier New',monospace\"><span style=\"font-weight: bold\"> Trainable params: </span><span style=\"color: #00af00; text-decoration-color: #00af00\">135,497,665</span> (516.88 MB)\n",
       "</pre>\n"
      ],
      "text/plain": [
       "\u001b[1m Trainable params: \u001b[0m\u001b[38;5;34m135,497,665\u001b[0m (516.88 MB)\n"
      ]
     },
     "metadata": {},
     "output_type": "display_data"
    },
    {
     "data": {
      "text/html": [
       "<pre style=\"white-space:pre;overflow-x:auto;line-height:normal;font-family:Menlo,'DejaVu Sans Mono',consolas,'Courier New',monospace\"><span style=\"font-weight: bold\"> Non-trainable params: </span><span style=\"color: #00af00; text-decoration-color: #00af00\">2,432</span> (9.50 KB)\n",
       "</pre>\n"
      ],
      "text/plain": [
       "\u001b[1m Non-trainable params: \u001b[0m\u001b[38;5;34m2,432\u001b[0m (9.50 KB)\n"
      ]
     },
     "metadata": {},
     "output_type": "display_data"
    }
   ],
   "source": [
    "model.summary()"
   ]
  },
  {
   "cell_type": "code",
   "execution_count": 12,
   "metadata": {},
   "outputs": [],
   "source": [
    "early_stop = callbacks.EarlyStopping(\n",
    "    monitor='val_loss',\n",
    "    patience=12,\n",
    "    restore_best_weights=True\n",
    ")"
   ]
  },
  {
   "cell_type": "code",
   "execution_count": 13,
   "metadata": {},
   "outputs": [],
   "source": [
    "lr_scheduler = callbacks.ReduceLROnPlateau(\n",
    "    monitor='val_loss',\n",
    "    factor=0.2,\n",
    "    patience=5,\n",
    "    min_lr=1e-6\n",
    ")"
   ]
  },
  {
   "cell_type": "code",
   "execution_count": 14,
   "metadata": {},
   "outputs": [
    {
     "name": "stdout",
     "output_type": "stream",
     "text": [
      "Epoch 1/100\n"
     ]
    },
    {
     "name": "stdout",
     "output_type": "stream",
     "text": [
      "\u001b[1m111/111\u001b[0m \u001b[32m━━━━━━━━━━━━━━━━━━━━\u001b[0m\u001b[37m\u001b[0m \u001b[1m2248s\u001b[0m 20s/step - accuracy: 0.6968 - loss: 0.7722 - precision: 0.6895 - recall: 0.7831 - val_accuracy: 0.5664 - val_loss: 0.8594 - val_precision: 0.5664 - val_recall: 1.0000 - learning_rate: 1.0000e-04\n",
      "Epoch 2/100\n",
      "\u001b[1m111/111\u001b[0m \u001b[32m━━━━━━━━━━━━━━━━━━━━\u001b[0m\u001b[37m\u001b[0m \u001b[1m1739s\u001b[0m 16s/step - accuracy: 0.7059 - loss: 0.7652 - precision: 0.6975 - recall: 0.7935 - val_accuracy: 0.5664 - val_loss: 0.9243 - val_precision: 0.5664 - val_recall: 1.0000 - learning_rate: 1.0000e-04\n",
      "Epoch 3/100\n",
      "\u001b[1m111/111\u001b[0m \u001b[32m━━━━━━━━━━━━━━━━━━━━\u001b[0m\u001b[37m\u001b[0m \u001b[1m1731s\u001b[0m 16s/step - accuracy: 0.6989 - loss: 0.7333 - precision: 0.6841 - recall: 0.7996 - val_accuracy: 0.3099 - val_loss: 1.1177 - val_precision: 0.3661 - val_recall: 0.2986 - learning_rate: 1.0000e-04\n",
      "Epoch 4/100\n",
      "\u001b[1m111/111\u001b[0m \u001b[32m━━━━━━━━━━━━━━━━━━━━\u001b[0m\u001b[37m\u001b[0m \u001b[1m1725s\u001b[0m 16s/step - accuracy: 0.7035 - loss: 0.7433 - precision: 0.7077 - recall: 0.7659 - val_accuracy: 0.5664 - val_loss: 0.8740 - val_precision: 0.5664 - val_recall: 1.0000 - learning_rate: 1.0000e-04\n",
      "Epoch 5/100\n",
      "\u001b[1m111/111\u001b[0m \u001b[32m━━━━━━━━━━━━━━━━━━━━\u001b[0m\u001b[37m\u001b[0m \u001b[1m1705s\u001b[0m 15s/step - accuracy: 0.7024 - loss: 0.7557 - precision: 0.6900 - recall: 0.7903 - val_accuracy: 0.4529 - val_loss: 2.0430 - val_precision: 0.8400 - val_recall: 0.0421 - learning_rate: 1.0000e-04\n",
      "Epoch 6/100\n",
      "\u001b[1m111/111\u001b[0m \u001b[32m━━━━━━━━━━━━━━━━━━━━\u001b[0m\u001b[37m\u001b[0m \u001b[1m1701s\u001b[0m 15s/step - accuracy: 0.7048 - loss: 0.7356 - precision: 0.6983 - recall: 0.7928 - val_accuracy: 0.7548 - val_loss: 0.7014 - val_precision: 0.7128 - val_recall: 0.9499 - learning_rate: 1.0000e-04\n",
      "Epoch 7/100\n",
      "\u001b[1m111/111\u001b[0m \u001b[32m━━━━━━━━━━━━━━━━━━━━\u001b[0m\u001b[37m\u001b[0m \u001b[1m1711s\u001b[0m 15s/step - accuracy: 0.7191 - loss: 0.7242 - precision: 0.7045 - recall: 0.8209 - val_accuracy: 0.7673 - val_loss: 0.6733 - val_precision: 0.7162 - val_recall: 0.9760 - learning_rate: 1.0000e-04\n",
      "Epoch 8/100\n",
      "\u001b[1m111/111\u001b[0m \u001b[32m━━━━━━━━━━━━━━━━━━━━\u001b[0m\u001b[37m\u001b[0m \u001b[1m1821s\u001b[0m 16s/step - accuracy: 0.7144 - loss: 0.7272 - precision: 0.7022 - recall: 0.8109 - val_accuracy: 0.7469 - val_loss: 0.6692 - val_precision: 0.7197 - val_recall: 0.9058 - learning_rate: 1.0000e-04\n",
      "Epoch 9/100\n",
      "\u001b[1m111/111\u001b[0m \u001b[32m━━━━━━━━━━━━━━━━━━━━\u001b[0m\u001b[37m\u001b[0m \u001b[1m1754s\u001b[0m 16s/step - accuracy: 0.7097 - loss: 0.7418 - precision: 0.6965 - recall: 0.8046 - val_accuracy: 0.7650 - val_loss: 0.6619 - val_precision: 0.7160 - val_recall: 0.9699 - learning_rate: 1.0000e-04\n",
      "Epoch 10/100\n",
      "\u001b[1m111/111\u001b[0m \u001b[32m━━━━━━━━━━━━━━━━━━━━\u001b[0m\u001b[37m\u001b[0m \u001b[1m1759s\u001b[0m 16s/step - accuracy: 0.7291 - loss: 0.7122 - precision: 0.7125 - recall: 0.8280 - val_accuracy: 0.7650 - val_loss: 0.6418 - val_precision: 0.7253 - val_recall: 0.9419 - learning_rate: 1.0000e-04\n",
      "Epoch 11/100\n",
      "\u001b[1m111/111\u001b[0m \u001b[32m━━━━━━━━━━━━━━━━━━━━\u001b[0m\u001b[37m\u001b[0m \u001b[1m1743s\u001b[0m 16s/step - accuracy: 0.7284 - loss: 0.6928 - precision: 0.7151 - recall: 0.8213 - val_accuracy: 0.7707 - val_loss: 0.6944 - val_precision: 0.7162 - val_recall: 0.9860 - learning_rate: 1.0000e-04\n",
      "Epoch 12/100\n",
      "\u001b[1m111/111\u001b[0m \u001b[32m━━━━━━━━━━━━━━━━━━━━\u001b[0m\u001b[37m\u001b[0m \u001b[1m1741s\u001b[0m 16s/step - accuracy: 0.7218 - loss: 0.7027 - precision: 0.7043 - recall: 0.8248 - val_accuracy: 0.7673 - val_loss: 0.6185 - val_precision: 0.7143 - val_recall: 0.9820 - learning_rate: 1.0000e-04\n",
      "Epoch 13/100\n",
      "\u001b[1m111/111\u001b[0m \u001b[32m━━━━━━━━━━━━━━━━━━━━\u001b[0m\u001b[37m\u001b[0m \u001b[1m1730s\u001b[0m 16s/step - accuracy: 0.7346 - loss: 0.6824 - precision: 0.7184 - recall: 0.8218 - val_accuracy: 0.6413 - val_loss: 0.9636 - val_precision: 0.6123 - val_recall: 1.0000 - learning_rate: 1.0000e-04\n",
      "Epoch 14/100\n",
      "\u001b[1m111/111\u001b[0m \u001b[32m━━━━━━━━━━━━━━━━━━━━\u001b[0m\u001b[37m\u001b[0m \u001b[1m1728s\u001b[0m 16s/step - accuracy: 0.7182 - loss: 0.6859 - precision: 0.7076 - recall: 0.8044 - val_accuracy: 0.4347 - val_loss: 3.9529 - val_precision: 1.0000 - val_recall: 0.0020 - learning_rate: 1.0000e-04\n",
      "Epoch 15/100\n",
      "\u001b[1m111/111\u001b[0m \u001b[32m━━━━━━━━━━━━━━━━━━━━\u001b[0m\u001b[37m\u001b[0m \u001b[1m1716s\u001b[0m 15s/step - accuracy: 0.7389 - loss: 0.6771 - precision: 0.7286 - recall: 0.8236 - val_accuracy: 0.7866 - val_loss: 0.6110 - val_precision: 0.7360 - val_recall: 0.9719 - learning_rate: 1.0000e-04\n",
      "Epoch 16/100\n",
      "\u001b[1m111/111\u001b[0m \u001b[32m━━━━━━━━━━━━━━━━━━━━\u001b[0m\u001b[37m\u001b[0m \u001b[1m1646s\u001b[0m 15s/step - accuracy: 0.7303 - loss: 0.6827 - precision: 0.7180 - recall: 0.8118 - val_accuracy: 0.8218 - val_loss: 0.5541 - val_precision: 0.7740 - val_recall: 0.9679 - learning_rate: 1.0000e-04\n",
      "Epoch 17/100\n",
      "\u001b[1m111/111\u001b[0m \u001b[32m━━━━━━━━━━━━━━━━━━━━\u001b[0m\u001b[37m\u001b[0m \u001b[1m1641s\u001b[0m 15s/step - accuracy: 0.7673 - loss: 0.6460 - precision: 0.7485 - recall: 0.8480 - val_accuracy: 0.6368 - val_loss: 0.7649 - val_precision: 0.8352 - val_recall: 0.4469 - learning_rate: 1.0000e-04\n",
      "Epoch 18/100\n",
      "\u001b[1m111/111\u001b[0m \u001b[32m━━━━━━━━━━━━━━━━━━━━\u001b[0m\u001b[37m\u001b[0m \u001b[1m1635s\u001b[0m 15s/step - accuracy: 0.7711 - loss: 0.6399 - precision: 0.7578 - recall: 0.8411 - val_accuracy: 0.8138 - val_loss: 0.5452 - val_precision: 0.7975 - val_recall: 0.8998 - learning_rate: 1.0000e-04\n",
      "Epoch 19/100\n",
      "\u001b[1m111/111\u001b[0m \u001b[32m━━━━━━━━━━━━━━━━━━━━\u001b[0m\u001b[37m\u001b[0m \u001b[1m1635s\u001b[0m 15s/step - accuracy: 0.7719 - loss: 0.6297 - precision: 0.7617 - recall: 0.8408 - val_accuracy: 0.8218 - val_loss: 0.5678 - val_precision: 0.7631 - val_recall: 0.9940 - learning_rate: 1.0000e-04\n",
      "Epoch 20/100\n",
      "\u001b[1m111/111\u001b[0m \u001b[32m━━━━━━━━━━━━━━━━━━━━\u001b[0m\u001b[37m\u001b[0m \u001b[1m1626s\u001b[0m 15s/step - accuracy: 0.7867 - loss: 0.6156 - precision: 0.7740 - recall: 0.8556 - val_accuracy: 0.4665 - val_loss: 1.8754 - val_precision: 0.9394 - val_recall: 0.0621 - learning_rate: 1.0000e-04\n",
      "Epoch 21/100\n",
      "\u001b[1m111/111\u001b[0m \u001b[32m━━━━━━━━━━━━━━━━━━━━\u001b[0m\u001b[37m\u001b[0m \u001b[1m1623s\u001b[0m 15s/step - accuracy: 0.7681 - loss: 0.6526 - precision: 0.7531 - recall: 0.8423 - val_accuracy: 0.7650 - val_loss: 0.6207 - val_precision: 0.8188 - val_recall: 0.7515 - learning_rate: 1.0000e-04\n",
      "Epoch 22/100\n",
      "\u001b[1m111/111\u001b[0m \u001b[32m━━━━━━━━━━━━━━━━━━━━\u001b[0m\u001b[37m\u001b[0m \u001b[1m1623s\u001b[0m 15s/step - accuracy: 0.7979 - loss: 0.6142 - precision: 0.7878 - recall: 0.8489 - val_accuracy: 0.8320 - val_loss: 0.5438 - val_precision: 0.7854 - val_recall: 0.9679 - learning_rate: 1.0000e-04\n",
      "Epoch 23/100\n",
      "\u001b[1m111/111\u001b[0m \u001b[32m━━━━━━━━━━━━━━━━━━━━\u001b[0m\u001b[37m\u001b[0m \u001b[1m1623s\u001b[0m 15s/step - accuracy: 0.7866 - loss: 0.6076 - precision: 0.7782 - recall: 0.8397 - val_accuracy: 0.8252 - val_loss: 0.5589 - val_precision: 0.7990 - val_recall: 0.9238 - learning_rate: 1.0000e-04\n",
      "Epoch 24/100\n",
      "\u001b[1m111/111\u001b[0m \u001b[32m━━━━━━━━━━━━━━━━━━━━\u001b[0m\u001b[37m\u001b[0m \u001b[1m1617s\u001b[0m 15s/step - accuracy: 0.7852 - loss: 0.6061 - precision: 0.7741 - recall: 0.8451 - val_accuracy: 0.8127 - val_loss: 0.5865 - val_precision: 0.7538 - val_recall: 0.9940 - learning_rate: 1.0000e-04\n",
      "Epoch 25/100\n",
      "\u001b[1m111/111\u001b[0m \u001b[32m━━━━━━━━━━━━━━━━━━━━\u001b[0m\u001b[37m\u001b[0m \u001b[1m1614s\u001b[0m 15s/step - accuracy: 0.8115 - loss: 0.5743 - precision: 0.7995 - recall: 0.8658 - val_accuracy: 0.7457 - val_loss: 0.6678 - val_precision: 0.9104 - val_recall: 0.6112 - learning_rate: 1.0000e-04\n",
      "Epoch 26/100\n",
      "\u001b[1m111/111\u001b[0m \u001b[32m━━━━━━━━━━━━━━━━━━━━\u001b[0m\u001b[37m\u001b[0m \u001b[1m1610s\u001b[0m 15s/step - accuracy: 0.8025 - loss: 0.5757 - precision: 0.7814 - recall: 0.8707 - val_accuracy: 0.8513 - val_loss: 0.5083 - val_precision: 0.8636 - val_recall: 0.8758 - learning_rate: 1.0000e-04\n",
      "Epoch 27/100\n",
      "\u001b[1m111/111\u001b[0m \u001b[32m━━━━━━━━━━━━━━━━━━━━\u001b[0m\u001b[37m\u001b[0m \u001b[1m1669s\u001b[0m 15s/step - accuracy: 0.8213 - loss: 0.5506 - precision: 0.8116 - recall: 0.8685 - val_accuracy: 0.8252 - val_loss: 0.5295 - val_precision: 0.7814 - val_recall: 0.9599 - learning_rate: 1.0000e-04\n",
      "Epoch 28/100\n",
      "\u001b[1m111/111\u001b[0m \u001b[32m━━━━━━━━━━━━━━━━━━━━\u001b[0m\u001b[37m\u001b[0m \u001b[1m1618s\u001b[0m 15s/step - accuracy: 0.8183 - loss: 0.5733 - precision: 0.8020 - recall: 0.8756 - val_accuracy: 0.8513 - val_loss: 0.5061 - val_precision: 0.7977 - val_recall: 0.9880 - learning_rate: 1.0000e-04\n",
      "Epoch 29/100\n",
      "\u001b[1m111/111\u001b[0m \u001b[32m━━━━━━━━━━━━━━━━━━━━\u001b[0m\u001b[37m\u001b[0m \u001b[1m1605s\u001b[0m 14s/step - accuracy: 0.8143 - loss: 0.5656 - precision: 0.8109 - recall: 0.8554 - val_accuracy: 0.8649 - val_loss: 0.4892 - val_precision: 0.8242 - val_recall: 0.9679 - learning_rate: 1.0000e-04\n",
      "Epoch 30/100\n",
      "\u001b[1m111/111\u001b[0m \u001b[32m━━━━━━━━━━━━━━━━━━━━\u001b[0m\u001b[37m\u001b[0m \u001b[1m1606s\u001b[0m 14s/step - accuracy: 0.8159 - loss: 0.5585 - precision: 0.8071 - recall: 0.8644 - val_accuracy: 0.8422 - val_loss: 0.5063 - val_precision: 0.8543 - val_recall: 0.8697 - learning_rate: 1.0000e-04\n",
      "Epoch 31/100\n",
      "\u001b[1m111/111\u001b[0m \u001b[32m━━━━━━━━━━━━━━━━━━━━\u001b[0m\u001b[37m\u001b[0m \u001b[1m1616s\u001b[0m 15s/step - accuracy: 0.8319 - loss: 0.5338 - precision: 0.8163 - recall: 0.8839 - val_accuracy: 0.8751 - val_loss: 0.4611 - val_precision: 0.8517 - val_recall: 0.9439 - learning_rate: 1.0000e-04\n",
      "Epoch 32/100\n",
      "\u001b[1m111/111\u001b[0m \u001b[32m━━━━━━━━━━━━━━━━━━━━\u001b[0m\u001b[37m\u001b[0m \u001b[1m1647s\u001b[0m 15s/step - accuracy: 0.8444 - loss: 0.5237 - precision: 0.8315 - recall: 0.8930 - val_accuracy: 0.8672 - val_loss: 0.4540 - val_precision: 0.8617 - val_recall: 0.9118 - learning_rate: 1.0000e-04\n",
      "Epoch 33/100\n",
      "\u001b[1m111/111\u001b[0m \u001b[32m━━━━━━━━━━━━━━━━━━━━\u001b[0m\u001b[37m\u001b[0m \u001b[1m1646s\u001b[0m 15s/step - accuracy: 0.8524 - loss: 0.4905 - precision: 0.8398 - recall: 0.8946 - val_accuracy: 0.8127 - val_loss: 0.5383 - val_precision: 0.9154 - val_recall: 0.7375 - learning_rate: 1.0000e-04\n",
      "Epoch 34/100\n",
      "\u001b[1m111/111\u001b[0m \u001b[32m━━━━━━━━━━━━━━━━━━━━\u001b[0m\u001b[37m\u001b[0m \u001b[1m1656s\u001b[0m 15s/step - accuracy: 0.8619 - loss: 0.4930 - precision: 0.8485 - recall: 0.9013 - val_accuracy: 0.8706 - val_loss: 0.4404 - val_precision: 0.8827 - val_recall: 0.8898 - learning_rate: 1.0000e-04\n",
      "Epoch 35/100\n",
      "\u001b[1m111/111\u001b[0m \u001b[32m━━━━━━━━━━━━━━━━━━━━\u001b[0m\u001b[37m\u001b[0m \u001b[1m1665s\u001b[0m 15s/step - accuracy: 0.8612 - loss: 0.4891 - precision: 0.8485 - recall: 0.9044 - val_accuracy: 0.8638 - val_loss: 0.4864 - val_precision: 0.8206 - val_recall: 0.9719 - learning_rate: 1.0000e-04\n",
      "Epoch 36/100\n",
      "\u001b[1m111/111\u001b[0m \u001b[32m━━━━━━━━━━━━━━━━━━━━\u001b[0m\u001b[37m\u001b[0m \u001b[1m1675s\u001b[0m 15s/step - accuracy: 0.8535 - loss: 0.4865 - precision: 0.8562 - recall: 0.8704 - val_accuracy: 0.8944 - val_loss: 0.4378 - val_precision: 0.8759 - val_recall: 0.9479 - learning_rate: 1.0000e-04\n",
      "Epoch 37/100\n",
      "\u001b[1m111/111\u001b[0m \u001b[32m━━━━━━━━━━━━━━━━━━━━\u001b[0m\u001b[37m\u001b[0m \u001b[1m1681s\u001b[0m 15s/step - accuracy: 0.8629 - loss: 0.4784 - precision: 0.8543 - recall: 0.8956 - val_accuracy: 0.8672 - val_loss: 0.4490 - val_precision: 0.8524 - val_recall: 0.9259 - learning_rate: 1.0000e-04\n",
      "Epoch 38/100\n",
      "\u001b[1m111/111\u001b[0m \u001b[32m━━━━━━━━━━━━━━━━━━━━\u001b[0m\u001b[37m\u001b[0m \u001b[1m1678s\u001b[0m 15s/step - accuracy: 0.8637 - loss: 0.4879 - precision: 0.8598 - recall: 0.8911 - val_accuracy: 0.8150 - val_loss: 0.5647 - val_precision: 0.7650 - val_recall: 0.9719 - learning_rate: 1.0000e-04\n",
      "Epoch 39/100\n",
      "\u001b[1m111/111\u001b[0m \u001b[32m━━━━━━━━━━━━━━━━━━━━\u001b[0m\u001b[37m\u001b[0m \u001b[1m1720s\u001b[0m 16s/step - accuracy: 0.8374 - loss: 0.5296 - precision: 0.8343 - recall: 0.8693 - val_accuracy: 0.8774 - val_loss: 0.4447 - val_precision: 0.8497 - val_recall: 0.9519 - learning_rate: 1.0000e-04\n",
      "Epoch 40/100\n",
      "\u001b[1m111/111\u001b[0m \u001b[32m━━━━━━━━━━━━━━━━━━━━\u001b[0m\u001b[37m\u001b[0m \u001b[1m1693s\u001b[0m 15s/step - accuracy: 0.8612 - loss: 0.4913 - precision: 0.8496 - recall: 0.8959 - val_accuracy: 0.8558 - val_loss: 0.4971 - val_precision: 0.8647 - val_recall: 0.8838 - learning_rate: 1.0000e-04\n",
      "Epoch 41/100\n",
      "\u001b[1m111/111\u001b[0m \u001b[32m━━━━━━━━━━━━━━━━━━━━\u001b[0m\u001b[37m\u001b[0m \u001b[1m1687s\u001b[0m 15s/step - accuracy: 0.8673 - loss: 0.4612 - precision: 0.8648 - recall: 0.8904 - val_accuracy: 0.8865 - val_loss: 0.4053 - val_precision: 0.8608 - val_recall: 0.9539 - learning_rate: 1.0000e-04\n",
      "Epoch 42/100\n",
      "\u001b[1m111/111\u001b[0m \u001b[32m━━━━━━━━━━━━━━━━━━━━\u001b[0m\u001b[37m\u001b[0m \u001b[1m1698s\u001b[0m 15s/step - accuracy: 0.8830 - loss: 0.4524 - precision: 0.8793 - recall: 0.9033 - val_accuracy: 0.8729 - val_loss: 0.4312 - val_precision: 0.8462 - val_recall: 0.9479 - learning_rate: 1.0000e-04\n",
      "Epoch 43/100\n",
      "\u001b[1m111/111\u001b[0m \u001b[32m━━━━━━━━━━━━━━━━━━━━\u001b[0m\u001b[37m\u001b[0m \u001b[1m1701s\u001b[0m 15s/step - accuracy: 0.8488 - loss: 0.5250 - precision: 0.8419 - recall: 0.8834 - val_accuracy: 0.8967 - val_loss: 0.3966 - val_precision: 0.8878 - val_recall: 0.9359 - learning_rate: 1.0000e-04\n",
      "Epoch 44/100\n",
      "\u001b[1m111/111\u001b[0m \u001b[32m━━━━━━━━━━━━━━━━━━━━\u001b[0m\u001b[37m\u001b[0m \u001b[1m1699s\u001b[0m 15s/step - accuracy: 0.8642 - loss: 0.4677 - precision: 0.8571 - recall: 0.8943 - val_accuracy: 0.8808 - val_loss: 0.4093 - val_precision: 0.8582 - val_recall: 0.9459 - learning_rate: 1.0000e-04\n",
      "Epoch 45/100\n",
      "\u001b[1m111/111\u001b[0m \u001b[32m━━━━━━━━━━━━━━━━━━━━\u001b[0m\u001b[37m\u001b[0m \u001b[1m1702s\u001b[0m 15s/step - accuracy: 0.8841 - loss: 0.4342 - precision: 0.8738 - recall: 0.9161 - val_accuracy: 0.8876 - val_loss: 0.4045 - val_precision: 0.8448 - val_recall: 0.9820 - learning_rate: 1.0000e-04\n",
      "Epoch 46/100\n",
      "\u001b[1m111/111\u001b[0m \u001b[32m━━━━━━━━━━━━━━━━━━━━\u001b[0m\u001b[37m\u001b[0m \u001b[1m1705s\u001b[0m 15s/step - accuracy: 0.8922 - loss: 0.4055 - precision: 0.8842 - recall: 0.9199 - val_accuracy: 0.8581 - val_loss: 0.5631 - val_precision: 0.8086 - val_recall: 0.9820 - learning_rate: 1.0000e-04\n",
      "Epoch 47/100\n",
      "\u001b[1m111/111\u001b[0m \u001b[32m━━━━━━━━━━━━━━━━━━━━\u001b[0m\u001b[37m\u001b[0m \u001b[1m1694s\u001b[0m 15s/step - accuracy: 0.8840 - loss: 0.4443 - precision: 0.8770 - recall: 0.9087 - val_accuracy: 0.8740 - val_loss: 0.4636 - val_precision: 0.9128 - val_recall: 0.8597 - learning_rate: 1.0000e-04\n",
      "Epoch 48/100\n",
      "\u001b[1m111/111\u001b[0m \u001b[32m━━━━━━━━━━━━━━━━━━━━\u001b[0m\u001b[37m\u001b[0m \u001b[1m1689s\u001b[0m 15s/step - accuracy: 0.8917 - loss: 0.4119 - precision: 0.8848 - recall: 0.9185 - val_accuracy: 0.8797 - val_loss: 0.4226 - val_precision: 0.8325 - val_recall: 0.9860 - learning_rate: 1.0000e-04\n",
      "Epoch 49/100\n",
      "\u001b[1m111/111\u001b[0m \u001b[32m━━━━━━━━━━━━━━━━━━━━\u001b[0m\u001b[37m\u001b[0m \u001b[1m1705s\u001b[0m 15s/step - accuracy: 0.8981 - loss: 0.4094 - precision: 0.8914 - recall: 0.9232 - val_accuracy: 0.9240 - val_loss: 0.3548 - val_precision: 0.9030 - val_recall: 0.9699 - learning_rate: 2.0000e-05\n",
      "Epoch 50/100\n",
      "\u001b[1m111/111\u001b[0m \u001b[32m━━━━━━━━━━━━━━━━━━━━\u001b[0m\u001b[37m\u001b[0m \u001b[1m1690s\u001b[0m 15s/step - accuracy: 0.8875 - loss: 0.3938 - precision: 0.8822 - recall: 0.9099 - val_accuracy: 0.9126 - val_loss: 0.3595 - val_precision: 0.9105 - val_recall: 0.9379 - learning_rate: 2.0000e-05\n",
      "Epoch 51/100\n",
      "\u001b[1m111/111\u001b[0m \u001b[32m━━━━━━━━━━━━━━━━━━━━\u001b[0m\u001b[37m\u001b[0m \u001b[1m1687s\u001b[0m 15s/step - accuracy: 0.8960 - loss: 0.4035 - precision: 0.8915 - recall: 0.9188 - val_accuracy: 0.9149 - val_loss: 0.3490 - val_precision: 0.8926 - val_recall: 0.9659 - learning_rate: 2.0000e-05\n",
      "Epoch 52/100\n",
      "\u001b[1m111/111\u001b[0m \u001b[32m━━━━━━━━━━━━━━━━━━━━\u001b[0m\u001b[37m\u001b[0m \u001b[1m1901s\u001b[0m 17s/step - accuracy: 0.8930 - loss: 0.3893 - precision: 0.8925 - recall: 0.9093 - val_accuracy: 0.9308 - val_loss: 0.3379 - val_precision: 0.9328 - val_recall: 0.9459 - learning_rate: 2.0000e-05\n",
      "Epoch 53/100\n",
      "\u001b[1m111/111\u001b[0m \u001b[32m━━━━━━━━━━━━━━━━━━━━\u001b[0m\u001b[37m\u001b[0m \u001b[1m2018s\u001b[0m 18s/step - accuracy: 0.8984 - loss: 0.3871 - precision: 0.8932 - recall: 0.9198 - val_accuracy: 0.9240 - val_loss: 0.3400 - val_precision: 0.9320 - val_recall: 0.9339 - learning_rate: 2.0000e-05\n",
      "Epoch 54/100\n",
      "\u001b[1m111/111\u001b[0m \u001b[32m━━━━━━━━━━━━━━━━━━━━\u001b[0m\u001b[37m\u001b[0m \u001b[1m2020s\u001b[0m 18s/step - accuracy: 0.9055 - loss: 0.3746 - precision: 0.9008 - recall: 0.9259 - val_accuracy: 0.9308 - val_loss: 0.3249 - val_precision: 0.9311 - val_recall: 0.9479 - learning_rate: 2.0000e-05\n",
      "Epoch 55/100\n",
      "\u001b[1m111/111\u001b[0m \u001b[32m━━━━━━━━━━━━━━━━━━━━\u001b[0m\u001b[37m\u001b[0m \u001b[1m1772s\u001b[0m 16s/step - accuracy: 0.9121 - loss: 0.3699 - precision: 0.9147 - recall: 0.9209 - val_accuracy: 0.9205 - val_loss: 0.3400 - val_precision: 0.9333 - val_recall: 0.9259 - learning_rate: 2.0000e-05\n",
      "Epoch 56/100\n",
      "\u001b[1m111/111\u001b[0m \u001b[32m━━━━━━━━━━━━━━━━━━━━\u001b[0m\u001b[37m\u001b[0m \u001b[1m1703s\u001b[0m 15s/step - accuracy: 0.9092 - loss: 0.3692 - precision: 0.9079 - recall: 0.9255 - val_accuracy: 0.9205 - val_loss: 0.3354 - val_precision: 0.9101 - val_recall: 0.9539 - learning_rate: 2.0000e-05\n",
      "Epoch 57/100\n",
      "\u001b[1m111/111\u001b[0m \u001b[32m━━━━━━━━━━━━━━━━━━━━\u001b[0m\u001b[37m\u001b[0m \u001b[1m1706s\u001b[0m 15s/step - accuracy: 0.9162 - loss: 0.3592 - precision: 0.9058 - recall: 0.9395 - val_accuracy: 0.9274 - val_loss: 0.3233 - val_precision: 0.9256 - val_recall: 0.9479 - learning_rate: 2.0000e-05\n",
      "Epoch 58/100\n",
      "\u001b[1m111/111\u001b[0m \u001b[32m━━━━━━━━━━━━━━━━━━━━\u001b[0m\u001b[37m\u001b[0m \u001b[1m1705s\u001b[0m 15s/step - accuracy: 0.8964 - loss: 0.3864 - precision: 0.8898 - recall: 0.9181 - val_accuracy: 0.9262 - val_loss: 0.3371 - val_precision: 0.9157 - val_recall: 0.9579 - learning_rate: 2.0000e-05\n",
      "Epoch 59/100\n",
      "\u001b[1m111/111\u001b[0m \u001b[32m━━━━━━━━━━━━━━━━━━━━\u001b[0m\u001b[37m\u001b[0m \u001b[1m1785s\u001b[0m 16s/step - accuracy: 0.9098 - loss: 0.3631 - precision: 0.9087 - recall: 0.9217 - val_accuracy: 0.9081 - val_loss: 0.3488 - val_precision: 0.8773 - val_recall: 0.9739 - learning_rate: 2.0000e-05\n",
      "Epoch 60/100\n",
      "\u001b[1m111/111\u001b[0m \u001b[32m━━━━━━━━━━━━━━━━━━━━\u001b[0m\u001b[37m\u001b[0m \u001b[1m1703s\u001b[0m 15s/step - accuracy: 0.9095 - loss: 0.3557 - precision: 0.9066 - recall: 0.9264 - val_accuracy: 0.9274 - val_loss: 0.3216 - val_precision: 0.9376 - val_recall: 0.9339 - learning_rate: 2.0000e-05\n",
      "Epoch 61/100\n",
      "\u001b[1m111/111\u001b[0m \u001b[32m━━━━━━━━━━━━━━━━━━━━\u001b[0m\u001b[37m\u001b[0m \u001b[1m1698s\u001b[0m 15s/step - accuracy: 0.9103 - loss: 0.3445 - precision: 0.9107 - recall: 0.9218 - val_accuracy: 0.9251 - val_loss: 0.3189 - val_precision: 0.9409 - val_recall: 0.9259 - learning_rate: 2.0000e-05\n",
      "Epoch 62/100\n",
      "\u001b[1m111/111\u001b[0m \u001b[32m━━━━━━━━━━━━━━━━━━━━\u001b[0m\u001b[37m\u001b[0m \u001b[1m1690s\u001b[0m 15s/step - accuracy: 0.9177 - loss: 0.3296 - precision: 0.9107 - recall: 0.9388 - val_accuracy: 0.9285 - val_loss: 0.3183 - val_precision: 0.9378 - val_recall: 0.9359 - learning_rate: 2.0000e-05\n",
      "Epoch 63/100\n",
      "\u001b[1m111/111\u001b[0m \u001b[32m━━━━━━━━━━━━━━━━━━━━\u001b[0m\u001b[37m\u001b[0m \u001b[1m1697s\u001b[0m 15s/step - accuracy: 0.9118 - loss: 0.3525 - precision: 0.9169 - recall: 0.9178 - val_accuracy: 0.9285 - val_loss: 0.3174 - val_precision: 0.9160 - val_recall: 0.9619 - learning_rate: 2.0000e-05\n",
      "Epoch 64/100\n",
      "\u001b[1m111/111\u001b[0m \u001b[32m━━━━━━━━━━━━━━━━━━━━\u001b[0m\u001b[37m\u001b[0m \u001b[1m1704s\u001b[0m 15s/step - accuracy: 0.9047 - loss: 0.3656 - precision: 0.8931 - recall: 0.9348 - val_accuracy: 0.9228 - val_loss: 0.3284 - val_precision: 0.8998 - val_recall: 0.9719 - learning_rate: 2.0000e-05\n",
      "Epoch 65/100\n",
      "\u001b[1m111/111\u001b[0m \u001b[32m━━━━━━━━━━━━━━━━━━━━\u001b[0m\u001b[37m\u001b[0m \u001b[1m1707s\u001b[0m 15s/step - accuracy: 0.9210 - loss: 0.3379 - precision: 0.9123 - recall: 0.9405 - val_accuracy: 0.9205 - val_loss: 0.3234 - val_precision: 0.8950 - val_recall: 0.9739 - learning_rate: 2.0000e-05\n",
      "Epoch 66/100\n",
      "\u001b[1m111/111\u001b[0m \u001b[32m━━━━━━━━━━━━━━━━━━━━\u001b[0m\u001b[37m\u001b[0m \u001b[1m1696s\u001b[0m 15s/step - accuracy: 0.9188 - loss: 0.3187 - precision: 0.9156 - recall: 0.9350 - val_accuracy: 0.9342 - val_loss: 0.3048 - val_precision: 0.9216 - val_recall: 0.9659 - learning_rate: 2.0000e-05\n",
      "Epoch 67/100\n",
      "\u001b[1m111/111\u001b[0m \u001b[32m━━━━━━━━━━━━━━━━━━━━\u001b[0m\u001b[37m\u001b[0m \u001b[1m1700s\u001b[0m 15s/step - accuracy: 0.9151 - loss: 0.3306 - precision: 0.9072 - recall: 0.9367 - val_accuracy: 0.9274 - val_loss: 0.3106 - val_precision: 0.9175 - val_recall: 0.9579 - learning_rate: 2.0000e-05\n",
      "Epoch 68/100\n",
      "\u001b[1m111/111\u001b[0m \u001b[32m━━━━━━━━━━━━━━━━━━━━\u001b[0m\u001b[37m\u001b[0m \u001b[1m1685s\u001b[0m 15s/step - accuracy: 0.9095 - loss: 0.3368 - precision: 0.9146 - recall: 0.9172 - val_accuracy: 0.9285 - val_loss: 0.3033 - val_precision: 0.9144 - val_recall: 0.9639 - learning_rate: 2.0000e-05\n",
      "Epoch 69/100\n",
      "\u001b[1m111/111\u001b[0m \u001b[32m━━━━━━━━━━━━━━━━━━━━\u001b[0m\u001b[37m\u001b[0m \u001b[1m1680s\u001b[0m 15s/step - accuracy: 0.9089 - loss: 0.3432 - precision: 0.9041 - recall: 0.9274 - val_accuracy: 0.9296 - val_loss: 0.3170 - val_precision: 0.9130 - val_recall: 0.9679 - learning_rate: 2.0000e-05\n",
      "Epoch 70/100\n",
      "\u001b[1m111/111\u001b[0m \u001b[32m━━━━━━━━━━━━━━━━━━━━\u001b[0m\u001b[37m\u001b[0m \u001b[1m1677s\u001b[0m 15s/step - accuracy: 0.9184 - loss: 0.3237 - precision: 0.9151 - recall: 0.9322 - val_accuracy: 0.9296 - val_loss: 0.3188 - val_precision: 0.9069 - val_recall: 0.9760 - learning_rate: 2.0000e-05\n",
      "Epoch 71/100\n",
      "\u001b[1m111/111\u001b[0m \u001b[32m━━━━━━━━━━━━━━━━━━━━\u001b[0m\u001b[37m\u001b[0m \u001b[1m1673s\u001b[0m 15s/step - accuracy: 0.9235 - loss: 0.3294 - precision: 0.9239 - recall: 0.9334 - val_accuracy: 0.9285 - val_loss: 0.3059 - val_precision: 0.9098 - val_recall: 0.9699 - learning_rate: 2.0000e-05\n",
      "Epoch 72/100\n",
      "\u001b[1m111/111\u001b[0m \u001b[32m━━━━━━━━━━━━━━━━━━━━\u001b[0m\u001b[37m\u001b[0m \u001b[1m1679s\u001b[0m 15s/step - accuracy: 0.9235 - loss: 0.3171 - precision: 0.9166 - recall: 0.9440 - val_accuracy: 0.9319 - val_loss: 0.3024 - val_precision: 0.9197 - val_recall: 0.9639 - learning_rate: 2.0000e-05\n",
      "Epoch 73/100\n",
      "\u001b[1m111/111\u001b[0m \u001b[32m━━━━━━━━━━━━━━━━━━━━\u001b[0m\u001b[37m\u001b[0m \u001b[1m1688s\u001b[0m 15s/step - accuracy: 0.9213 - loss: 0.3079 - precision: 0.9205 - recall: 0.9323 - val_accuracy: 0.9274 - val_loss: 0.3015 - val_precision: 0.9112 - val_recall: 0.9659 - learning_rate: 2.0000e-05\n",
      "Epoch 74/100\n",
      "\u001b[1m111/111\u001b[0m \u001b[32m━━━━━━━━━━━━━━━━━━━━\u001b[0m\u001b[37m\u001b[0m \u001b[1m1683s\u001b[0m 15s/step - accuracy: 0.9285 - loss: 0.3029 - precision: 0.9192 - recall: 0.9496 - val_accuracy: 0.9319 - val_loss: 0.3020 - val_precision: 0.9181 - val_recall: 0.9659 - learning_rate: 2.0000e-05\n",
      "Epoch 75/100\n",
      "\u001b[1m111/111\u001b[0m \u001b[32m━━━━━━━━━━━━━━━━━━━━\u001b[0m\u001b[37m\u001b[0m \u001b[1m1667s\u001b[0m 15s/step - accuracy: 0.9266 - loss: 0.3115 - precision: 0.9206 - recall: 0.9447 - val_accuracy: 0.9262 - val_loss: 0.2990 - val_precision: 0.9357 - val_recall: 0.9339 - learning_rate: 2.0000e-05\n",
      "Epoch 76/100\n",
      "\u001b[1m111/111\u001b[0m \u001b[32m━━━━━━━━━━━━━━━━━━━━\u001b[0m\u001b[37m\u001b[0m \u001b[1m1665s\u001b[0m 15s/step - accuracy: 0.9187 - loss: 0.3256 - precision: 0.9210 - recall: 0.9271 - val_accuracy: 0.9398 - val_loss: 0.2903 - val_precision: 0.9305 - val_recall: 0.9659 - learning_rate: 2.0000e-05\n",
      "Epoch 77/100\n",
      "\u001b[1m111/111\u001b[0m \u001b[32m━━━━━━━━━━━━━━━━━━━━\u001b[0m\u001b[37m\u001b[0m \u001b[1m1687s\u001b[0m 15s/step - accuracy: 0.9246 - loss: 0.3149 - precision: 0.9241 - recall: 0.9374 - val_accuracy: 0.9308 - val_loss: 0.2960 - val_precision: 0.9163 - val_recall: 0.9659 - learning_rate: 2.0000e-05\n",
      "Epoch 78/100\n",
      "\u001b[1m111/111\u001b[0m \u001b[32m━━━━━━━━━━━━━━━━━━━━\u001b[0m\u001b[37m\u001b[0m \u001b[1m1687s\u001b[0m 15s/step - accuracy: 0.9375 - loss: 0.2771 - precision: 0.9396 - recall: 0.9445 - val_accuracy: 0.9353 - val_loss: 0.2967 - val_precision: 0.9154 - val_recall: 0.9760 - learning_rate: 2.0000e-05\n",
      "Epoch 79/100\n",
      "\u001b[1m111/111\u001b[0m \u001b[32m━━━━━━━━━━━━━━━━━━━━\u001b[0m\u001b[37m\u001b[0m \u001b[1m1683s\u001b[0m 15s/step - accuracy: 0.9235 - loss: 0.3152 - precision: 0.9308 - recall: 0.9273 - val_accuracy: 0.9228 - val_loss: 0.3134 - val_precision: 0.8954 - val_recall: 0.9780 - learning_rate: 2.0000e-05\n",
      "Epoch 80/100\n",
      "\u001b[1m111/111\u001b[0m \u001b[32m━━━━━━━━━━━━━━━━━━━━\u001b[0m\u001b[37m\u001b[0m \u001b[1m1680s\u001b[0m 15s/step - accuracy: 0.9264 - loss: 0.3098 - precision: 0.9236 - recall: 0.9388 - val_accuracy: 0.9364 - val_loss: 0.2790 - val_precision: 0.9369 - val_recall: 0.9519 - learning_rate: 2.0000e-05\n",
      "Epoch 81/100\n",
      "\u001b[1m111/111\u001b[0m \u001b[32m━━━━━━━━━━━━━━━━━━━━\u001b[0m\u001b[37m\u001b[0m \u001b[1m1673s\u001b[0m 15s/step - accuracy: 0.9243 - loss: 0.3077 - precision: 0.9197 - recall: 0.9380 - val_accuracy: 0.9228 - val_loss: 0.2991 - val_precision: 0.9407 - val_recall: 0.9218 - learning_rate: 2.0000e-05\n",
      "Epoch 82/100\n",
      "\u001b[1m111/111\u001b[0m \u001b[32m━━━━━━━━━━━━━━━━━━━━\u001b[0m\u001b[37m\u001b[0m \u001b[1m1664s\u001b[0m 15s/step - accuracy: 0.9205 - loss: 0.3039 - precision: 0.9179 - recall: 0.9342 - val_accuracy: 0.9308 - val_loss: 0.2880 - val_precision: 0.9212 - val_recall: 0.9599 - learning_rate: 2.0000e-05\n",
      "Epoch 83/100\n",
      "\u001b[1m111/111\u001b[0m \u001b[32m━━━━━━━━━━━━━━━━━━━━\u001b[0m\u001b[37m\u001b[0m \u001b[1m8079s\u001b[0m 73s/step - accuracy: 0.9312 - loss: 0.2880 - precision: 0.9335 - recall: 0.9378 - val_accuracy: 0.9330 - val_loss: 0.2848 - val_precision: 0.9247 - val_recall: 0.9599 - learning_rate: 2.0000e-05\n",
      "Epoch 84/100\n",
      "\u001b[1m111/111\u001b[0m \u001b[32m━━━━━━━━━━━━━━━━━━━━\u001b[0m\u001b[37m\u001b[0m \u001b[1m2213s\u001b[0m 20s/step - accuracy: 0.9219 - loss: 0.2892 - precision: 0.9206 - recall: 0.9347 - val_accuracy: 0.9364 - val_loss: 0.2783 - val_precision: 0.9335 - val_recall: 0.9559 - learning_rate: 2.0000e-05\n",
      "Epoch 85/100\n",
      "\u001b[1m111/111\u001b[0m \u001b[32m━━━━━━━━━━━━━━━━━━━━\u001b[0m\u001b[37m\u001b[0m \u001b[1m1689s\u001b[0m 15s/step - accuracy: 0.9338 - loss: 0.2880 - precision: 0.9213 - recall: 0.9575 - val_accuracy: 0.9262 - val_loss: 0.2983 - val_precision: 0.9079 - val_recall: 0.9679 - learning_rate: 2.0000e-05\n",
      "Epoch 86/100\n",
      "\u001b[1m111/111\u001b[0m \u001b[32m━━━━━━━━━━━━━━━━━━━━\u001b[0m\u001b[37m\u001b[0m \u001b[1m1712s\u001b[0m 15s/step - accuracy: 0.9262 - loss: 0.3011 - precision: 0.9192 - recall: 0.9452 - val_accuracy: 0.9308 - val_loss: 0.2951 - val_precision: 0.9195 - val_recall: 0.9619 - learning_rate: 2.0000e-05\n",
      "Epoch 87/100\n",
      "\u001b[1m111/111\u001b[0m \u001b[32m━━━━━━━━━━━━━━━━━━━━\u001b[0m\u001b[37m\u001b[0m \u001b[1m1706s\u001b[0m 15s/step - accuracy: 0.9359 - loss: 0.2697 - precision: 0.9402 - recall: 0.9408 - val_accuracy: 0.9342 - val_loss: 0.2845 - val_precision: 0.9249 - val_recall: 0.9619 - learning_rate: 2.0000e-05\n",
      "Epoch 88/100\n",
      "\u001b[1m111/111\u001b[0m \u001b[32m━━━━━━━━━━━━━━━━━━━━\u001b[0m\u001b[37m\u001b[0m \u001b[1m1696s\u001b[0m 15s/step - accuracy: 0.9280 - loss: 0.2908 - precision: 0.9253 - recall: 0.9424 - val_accuracy: 0.9171 - val_loss: 0.3271 - val_precision: 0.8817 - val_recall: 0.9860 - learning_rate: 2.0000e-05\n",
      "Epoch 89/100\n",
      "\u001b[1m111/111\u001b[0m \u001b[32m━━━━━━━━━━━━━━━━━━━━\u001b[0m\u001b[37m\u001b[0m \u001b[1m1674s\u001b[0m 15s/step - accuracy: 0.9387 - loss: 0.2762 - precision: 0.9461 - recall: 0.9402 - val_accuracy: 0.9330 - val_loss: 0.2848 - val_precision: 0.9215 - val_recall: 0.9639 - learning_rate: 2.0000e-05\n",
      "Epoch 90/100\n",
      "\u001b[1m111/111\u001b[0m \u001b[32m━━━━━━━━━━━━━━━━━━━━\u001b[0m\u001b[37m\u001b[0m \u001b[1m1793s\u001b[0m 16s/step - accuracy: 0.9432 - loss: 0.2680 - precision: 0.9442 - recall: 0.9507 - val_accuracy: 0.9410 - val_loss: 0.2746 - val_precision: 0.9273 - val_recall: 0.9719 - learning_rate: 4.0000e-06\n",
      "Epoch 91/100\n",
      "\u001b[1m111/111\u001b[0m \u001b[32m━━━━━━━━━━━━━━━━━━━━\u001b[0m\u001b[37m\u001b[0m \u001b[1m1936s\u001b[0m 17s/step - accuracy: 0.9345 - loss: 0.2656 - precision: 0.9357 - recall: 0.9427 - val_accuracy: 0.9376 - val_loss: 0.2739 - val_precision: 0.9286 - val_recall: 0.9639 - learning_rate: 4.0000e-06\n",
      "Epoch 92/100\n",
      "\u001b[1m111/111\u001b[0m \u001b[32m━━━━━━━━━━━━━━━━━━━━\u001b[0m\u001b[37m\u001b[0m \u001b[1m1642s\u001b[0m 15s/step - accuracy: 0.9410 - loss: 0.2655 - precision: 0.9395 - recall: 0.9518 - val_accuracy: 0.9376 - val_loss: 0.2757 - val_precision: 0.9221 - val_recall: 0.9719 - learning_rate: 4.0000e-06\n",
      "Epoch 93/100\n",
      "\u001b[1m111/111\u001b[0m \u001b[32m━━━━━━━━━━━━━━━━━━━━\u001b[0m\u001b[37m\u001b[0m \u001b[1m1640s\u001b[0m 15s/step - accuracy: 0.9318 - loss: 0.2826 - precision: 0.9337 - recall: 0.9402 - val_accuracy: 0.9398 - val_loss: 0.2717 - val_precision: 0.9272 - val_recall: 0.9699 - learning_rate: 4.0000e-06\n",
      "Epoch 94/100\n",
      "\u001b[1m111/111\u001b[0m \u001b[32m━━━━━━━━━━━━━━━━━━━━\u001b[0m\u001b[37m\u001b[0m \u001b[1m1633s\u001b[0m 15s/step - accuracy: 0.9410 - loss: 0.2581 - precision: 0.9429 - recall: 0.9474 - val_accuracy: 0.9421 - val_loss: 0.2711 - val_precision: 0.9259 - val_recall: 0.9760 - learning_rate: 4.0000e-06\n",
      "Epoch 95/100\n",
      "\u001b[1m111/111\u001b[0m \u001b[32m━━━━━━━━━━━━━━━━━━━━\u001b[0m\u001b[37m\u001b[0m \u001b[1m1612s\u001b[0m 15s/step - accuracy: 0.9328 - loss: 0.2731 - precision: 0.9326 - recall: 0.9422 - val_accuracy: 0.9353 - val_loss: 0.2698 - val_precision: 0.9300 - val_recall: 0.9579 - learning_rate: 4.0000e-06\n",
      "Epoch 96/100\n",
      "\u001b[1m111/111\u001b[0m \u001b[32m━━━━━━━━━━━━━━━━━━━━\u001b[0m\u001b[37m\u001b[0m \u001b[1m1611s\u001b[0m 15s/step - accuracy: 0.9345 - loss: 0.2806 - precision: 0.9304 - recall: 0.9475 - val_accuracy: 0.9376 - val_loss: 0.2679 - val_precision: 0.9302 - val_recall: 0.9619 - learning_rate: 4.0000e-06\n",
      "Epoch 97/100\n",
      "\u001b[1m111/111\u001b[0m \u001b[32m━━━━━━━━━━━━━━━━━━━━\u001b[0m\u001b[37m\u001b[0m \u001b[1m1606s\u001b[0m 14s/step - accuracy: 0.9392 - loss: 0.2586 - precision: 0.9380 - recall: 0.9494 - val_accuracy: 0.9364 - val_loss: 0.2688 - val_precision: 0.9284 - val_recall: 0.9619 - learning_rate: 4.0000e-06\n",
      "Epoch 98/100\n",
      "\u001b[1m111/111\u001b[0m \u001b[32m━━━━━━━━━━━━━━━━━━━━\u001b[0m\u001b[37m\u001b[0m \u001b[1m1611s\u001b[0m 15s/step - accuracy: 0.9450 - loss: 0.2461 - precision: 0.9399 - recall: 0.9582 - val_accuracy: 0.9330 - val_loss: 0.2684 - val_precision: 0.9280 - val_recall: 0.9559 - learning_rate: 4.0000e-06\n",
      "Epoch 99/100\n",
      "\u001b[1m111/111\u001b[0m \u001b[32m━━━━━━━━━━━━━━━━━━━━\u001b[0m\u001b[37m\u001b[0m \u001b[1m8618s\u001b[0m 78s/step - accuracy: 0.9467 - loss: 0.2534 - precision: 0.9414 - recall: 0.9613 - val_accuracy: 0.9387 - val_loss: 0.2638 - val_precision: 0.9354 - val_recall: 0.9579 - learning_rate: 4.0000e-06\n",
      "Epoch 100/100\n",
      "\u001b[1m111/111\u001b[0m \u001b[32m━━━━━━━━━━━━━━━━━━━━\u001b[0m\u001b[37m\u001b[0m \u001b[1m3309s\u001b[0m 30s/step - accuracy: 0.9424 - loss: 0.2670 - precision: 0.9382 - recall: 0.9543 - val_accuracy: 0.9387 - val_loss: 0.2649 - val_precision: 0.9320 - val_recall: 0.9619 - learning_rate: 4.0000e-06\n"
     ]
    }
   ],
   "source": [
    "history = model.fit(\n",
    "    train_set,\n",
    "    validation_data=valid_set,\n",
    "    epochs=100,\n",
    "    class_weight=class_weight,\n",
    "    callbacks=[early_stop, lr_scheduler],\n",
    "    verbose=1\n",
    ")"
   ]
  },
  {
   "cell_type": "code",
   "execution_count": 15,
   "metadata": {},
   "outputs": [
    {
     "name": "stdout",
     "output_type": "stream",
     "text": [
      "\u001b[1m60/60\u001b[0m \u001b[32m━━━━━━━━━━━━━━━━━━━━\u001b[0m\u001b[37m\u001b[0m \u001b[1m194s\u001b[0m 3s/step - accuracy: 0.9259 - loss: 0.2788 - precision: 0.4703 - recall: 0.5500\n",
      "\n",
      "Standard Evaluation:\n",
      "Accuracy: 93.60%\n",
      "Precision: 0.933\n",
      "Recall: 0.953\n"
     ]
    }
   ],
   "source": [
    "test_loss, test_acc, test_precision, test_recall = model.evaluate(test_set)\n",
    "print(f\"\\nStandard Evaluation:\")\n",
    "print(f\"Accuracy: {test_acc*100:.2f}%\")\n",
    "print(f\"Precision: {test_precision:.3f}\")\n",
    "print(f\"Recall: {test_recall:.3f}\")\n"
   ]
  },
  {
   "cell_type": "code",
   "execution_count": 16,
   "metadata": {},
   "outputs": [],
   "source": [
    "acc = history.history['accuracy']\n",
    "val_acc = history.history['val_accuracy']\n",
    "loss =history.history['loss']\n",
    "val_loss = history.history['val_loss']"
   ]
  },
  {
   "cell_type": "code",
   "execution_count": 17,
   "metadata": {},
   "outputs": [
    {
     "data": {
      "text/plain": [
       "<Figure size 640x480 with 0 Axes>"
      ]
     },
     "execution_count": 17,
     "metadata": {},
     "output_type": "execute_result"
    },
    {
     "data": {
      "image/png": "[encoded data removed]",
      "text/plain": [
       "<Figure size 640x480 with 1 Axes>"
      ]
     },
     "metadata": {},
     "output_type": "display_data"
    },
    {
     "data": {
      "text/plain": [
       "<Figure size 640x480 with 0 Axes>"
      ]
     },
     "metadata": {},
     "output_type": "display_data"
    }
   ],
   "source": [
    "epochs = range(len(acc))\n",
    "\n",
    "plt.plot(epochs, acc, 'b', label = 'Training Accuracy')\n",
    "plt.plot(epochs, val_acc, 'r', label = 'Validation Accuracy')\n",
    "plt.xlabel(\"Epoch\",fontsize= 15, fontweight='bold')\n",
    "plt.ylabel(\"Accuracy\",fontsize= 15, fontweight='bold')\n",
    "plt.xticks(fontsize=10, fontweight='bold')\n",
    "plt.yticks(fontsize=10, fontweight='bold')\n",
    "plt.legend(prop={'size': 8})\n",
    "plt.figure()"
   ]
  },
  {
   "cell_type": "code",
   "execution_count": 18,
   "metadata": {},
   "outputs": [
    {
     "data": {
      "text/plain": [
       "<Figure size 640x480 with 0 Axes>"
      ]
     },
     "execution_count": 18,
     "metadata": {},
     "output_type": "execute_result"
    },
    {
     "data": {
      "image/png": "[encoded data removed]",
      "text/plain": [
       "<Figure size 640x480 with 1 Axes>"
      ]
     },
     "metadata": {},
     "output_type": "display_data"
    },
    {
     "data": {
      "text/plain": [
       "<Figure size 640x480 with 0 Axes>"
      ]
     },
     "metadata": {},
     "output_type": "display_data"
    }
   ],
   "source": [
    "epochs = range(len(loss))\n",
    "\n",
    "plt.plot(epochs, loss, 'b', label = 'Training Loss')\n",
    "plt.plot(epochs, val_loss, 'r', label = 'Validation Loss')\n",
    "plt.xlabel(\"Epoch\",fontsize= 15, fontweight='bold')\n",
    "plt.ylabel(\"Accuracy\",fontsize= 15, fontweight='bold')\n",
    "plt.xticks(fontsize=10, fontweight='bold')\n",
    "plt.yticks(fontsize=10, fontweight='bold')\n",
    "plt.legend(prop={'size': 8})\n",
    "plt.figure()"
   ]
  },
  {
   "cell_type": "code",
   "execution_count": 19,
   "metadata": {},
   "outputs": [
    {
     "name": "stdout",
     "output_type": "stream",
     "text": [
      "\u001b[1m60/60\u001b[0m \u001b[32m━━━━━━━━━━━━━━━━━━━━\u001b[0m\u001b[37m\u001b[0m \u001b[1m187s\u001b[0m 3s/step\n"
     ]
    }
   ],
   "source": [
    "y_true = np.concatenate([y for X, y in test_set], axis=0)\n",
    "y_pred = (model.predict(test_set) > 0.5).astype(int)"
   ]
  },
  {
   "cell_type": "code",
   "execution_count": 20,
   "metadata": {},
   "outputs": [
    {
     "name": "stdout",
     "output_type": "stream",
     "text": [
      "\n",
      "Detailed Classification Report:\n",
      "              precision    recall  f1-score   support\n",
      "\n",
      "     Class 0       0.94      0.91      0.93       842\n",
      "     Class 1       0.93      0.95      0.94      1049\n",
      "\n",
      "    accuracy                           0.94      1891\n",
      "   macro avg       0.94      0.93      0.94      1891\n",
      "weighted avg       0.94      0.94      0.94      1891\n",
      "\n"
     ]
    }
   ],
   "source": [
    "print(\"\\nDetailed Classification Report:\")\n",
    "print(classification_report(y_true, y_pred, target_names=['Class 0', 'Class 1']))"
   ]
  },
  {
   "cell_type": "code",
   "execution_count": 21,
   "metadata": {},
   "outputs": [
    {
     "data": {
      "image/png": "[encoded data removed]",
      "text/plain": [
       "<Figure size 1000x800 with 2 Axes>"
      ]
     },
     "metadata": {},
     "output_type": "display_data"
    }
   ],
   "source": [
    "cm = confusion_matrix(y_true, y_pred)\n",
    "plt.figure(figsize=(10, 8))\n",
    "sns.heatmap(cm, annot=True, fmt='d', cmap='Blues', \n",
    "            xticklabels=['Class 0', 'Class 1'],\n",
    "            yticklabels=['Class 0', 'Class 1'])\n",
    "plt.xlabel('Predicted')\n",
    "plt.ylabel('True')\n",
    "plt.title('Confusion Matrix')\n",
    "plt.show()"
   ]
  }
 ],
 "metadata": {
  "kernelspec": {
   "display_name": "Python 3",
   "language": "python",
   "name": "python3"
  },
  "language_info": {
   "codemirror_mode": {
    "name": "ipython",
    "version": 3
   },
   "file_extension": ".py",
   "mimetype": "text/x-python",
   "name": "python",
   "nbconvert_exporter": "python",
   "pygments_lexer": "ipython3",
   "version": "3.12.2"
  }
 },
 "nbformat": 4,
 "nbformat_minor": 2
}
